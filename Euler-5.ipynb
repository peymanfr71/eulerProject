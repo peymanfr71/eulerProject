{
 "cells": [
  {
   "cell_type": "code",
   "execution_count": 1,
   "id": "05d6c35c-74d9-4632-b776-4753e2d7d590",
   "metadata": {},
   "outputs": [
    {
     "name": "stdout",
     "output_type": "stream",
     "text": [
      "The smallest positive number divisible by all numbers from 1 to 20 is: 232792560\n"
     ]
    }
   ],
   "source": [
    "def smallest_multiple(n):\n",
    "    result = 1\n",
    "    for i in range(2, n + 1):\n",
    "        if result % i != 0:\n",
    "            j = 2\n",
    "            while j <= i:\n",
    "                if (result * j) % i == 0:\n",
    "                    result *= j\n",
    "                    break\n",
    "                j += 1\n",
    "    return result\n",
    "\n",
    "# Find the smallest multiple for the numbers from 1 to 20\n",
    "result = smallest_multiple(20)\n",
    "print(\"The smallest positive number divisible by all numbers from 1 to 20 is:\", result)\n"
   ]
  },
  {
   "cell_type": "code",
   "execution_count": null,
   "id": "f9f946dd-7cb6-414b-b693-cb9d209870a7",
   "metadata": {},
   "outputs": [],
   "source": []
  }
 ],
 "metadata": {
  "kernelspec": {
   "display_name": "Python 3 (ipykernel)",
   "language": "python",
   "name": "python3"
  },
  "language_info": {
   "codemirror_mode": {
    "name": "ipython",
    "version": 3
   },
   "file_extension": ".py",
   "mimetype": "text/x-python",
   "name": "python",
   "nbconvert_exporter": "python",
   "pygments_lexer": "ipython3",
   "version": "3.11.4"
  }
 },
 "nbformat": 4,
 "nbformat_minor": 5
}
